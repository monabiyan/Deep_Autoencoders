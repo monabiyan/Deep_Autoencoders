{
  "nbformat": 4,
  "nbformat_minor": 0,
  "metadata": {
    "colab": {
      "name": "Face_autoencoder.ipynb",
      "version": "0.3.2",
      "provenance": [],
      "collapsed_sections": []
    },
    "kernelspec": {
      "name": "python3",
      "display_name": "Python 3"
    },
    "accelerator": "GPU"
  },
  "cells": [
    {
      "cell_type": "markdown",
      "metadata": {
        "id": "view-in-github",
        "colab_type": "text"
      },
      "source": [
        "[View in Colaboratory](https://colab.research.google.com/github/monabiyan/Deep_Autoencoders/blob/master/Face_autoencoder.ipynb)"
      ]
    },
    {
      "metadata": {
        "id": "tcxFIGnCq-FQ",
        "colab_type": "code",
        "colab": {}
      },
      "cell_type": "code",
      "source": [
        "!pip install -U -q PyDrive ## you will have install for every colab session\n",
        "\n",
        "from pydrive.auth import GoogleAuth\n",
        "from pydrive.drive import GoogleDrive\n",
        "from google.colab import auth\n",
        "from oauth2client.client import GoogleCredentials\n",
        "\n",
        "# 1. Authenticate and create the PyDrive client.\n",
        "auth.authenticate_user()\n",
        "gauth = GoogleAuth()\n",
        "gauth.credentials = GoogleCredentials.get_application_default()\n",
        "drive = GoogleDrive(gauth)"
      ],
      "execution_count": 0,
      "outputs": []
    },
    {
      "metadata": {
        "id": "08zwrt79KC7m",
        "colab_type": "code",
        "colab": {}
      },
      "cell_type": "code",
      "source": [
        "file_id='1k3GSSR0PhSThX4xSM5kOdpflQmTNHjTM'\n",
        "data_import = drive.CreateFile({'id':file_id})\n",
        "data_import.GetContentFile('mydata_file') "
      ],
      "execution_count": 0,
      "outputs": []
    },
    {
      "metadata": {
        "id": "9-MMZ2yNLQva",
        "colab_type": "code",
        "colab": {}
      },
      "cell_type": "code",
      "source": [
        "import numpy as np\n",
        "all_images = np.load('mydata_file')"
      ],
      "execution_count": 0,
      "outputs": []
    },
    {
      "metadata": {
        "id": "brxczQL-Lwrg",
        "colab_type": "code",
        "colab": {
          "base_uri": "https://localhost:8080/",
          "height": 34
        },
        "outputId": "45cb63ca-b0fb-49b0-f85e-c109ec16bcce"
      },
      "cell_type": "code",
      "source": [
        "print(np.shape(all_images))\n"
      ],
      "execution_count": 7,
      "outputs": [
        {
          "output_type": "stream",
          "text": [
            "(13233, 250, 250, 3)\n"
          ],
          "name": "stdout"
        }
      ]
    },
    {
      "metadata": {
        "id": "5UWFykc_Mugi",
        "colab_type": "code",
        "colab": {
          "base_uri": "https://localhost:8080/",
          "height": 4399
        },
        "outputId": "05ba51e0-f337-41ba-ae1d-6443f647d50b"
      },
      "cell_type": "code",
      "source": [
        "import cv2\n",
        "import os\n",
        "import numpy as np\n",
        "import matplotlib.pyplot as plt\n",
        "from scipy.stats import norm\n",
        "from keras.layers import Input, Dense, Lambda\n",
        "from keras.models import Model\n",
        "from keras import backend as K\n",
        "from keras import metrics\n",
        "from keras.datasets import mnist\n",
        "\n",
        "new_dim=128\n",
        "\n",
        "# all_images=np.load('all_images.npy')\n",
        "all_images_small=[]\n",
        "for i in range(np.shape(all_images)[0]):\n",
        "    img = cv2.resize(all_images[i], (new_dim, new_dim))\n",
        "    img= cv2.cvtColor(img, cv2.COLOR_BGR2GRAY)\n",
        "    all_images_small.append(img)\n",
        "\n",
        "all_images_small=np.array(all_images_small)\n",
        "print(np.shape(all_images_small))\n",
        "# for i in range(5):\n",
        "print(all_images_small[1])\n",
        "\n",
        "batch_size = 128\n",
        "original_dim = new_dim * new_dim   #32*32\n",
        "latent_dim = 5*2\n",
        "intermediate_dim = 256*2\n",
        "epochs = 100\n",
        "epsilon_std = 1.0\n",
        "\n",
        "x = Input(shape=(original_dim,))\n",
        "h = Dense(intermediate_dim, activation='relu')(x)\n",
        "z_mean = Dense(latent_dim)(h)\n",
        "z_log_var = Dense(latent_dim)(h)\n",
        "\n",
        "def sampling(args):\n",
        "    z_mean, z_log_var = args     # z_mean, z_log_var  are dense tensors with shapes both : shape=(?, 2)\n",
        "    epsilon = K.random_normal(shape=(K.shape(z_mean)[0], latent_dim), mean=0.,\n",
        "                              stddev=epsilon_std)\n",
        "    # Tensor(\"lambda_1/Shape_1:0\", shape=(2,), dtype=int32)\n",
        "    print(K.shape(z_mean))\n",
        "    print(K.shape(z_mean)[0])\n",
        "    print(z_mean)\n",
        "    print(z_log_var)\n",
        "    print(epsilon)\n",
        "    return z_mean + K.exp(z_log_var / 2) * epsilon\n",
        "\n",
        "# note that \"output_shape\" isn't necessary with the TensorFlow backend\n",
        "z = Lambda(sampling, output_shape=(latent_dim,))([z_mean, z_log_var])\n",
        "\n",
        "# we instantiate these layers separately so as to reuse them later\n",
        "decoder_h = Dense(intermediate_dim, activation='relu')\n",
        "decoder_mean = Dense(original_dim, activation='sigmoid')\n",
        "h_decoded = decoder_h(z)\n",
        "x_decoded_mean = decoder_mean(h_decoded)\n",
        "\n",
        "# instantiate VAE model\n",
        "vae = Model(x, x_decoded_mean)\n",
        "\n",
        "# Compute VAE loss\n",
        "xent_loss = original_dim * metrics.binary_crossentropy(x, x_decoded_mean)\n",
        "kl_loss = - 0.5 * K.sum(1 + z_log_var - K.square(z_mean) - K.exp(z_log_var), axis=-1)\n",
        "vae_loss = K.mean(xent_loss + kl_loss)\n",
        "\n",
        "vae.add_loss(vae_loss)\n",
        "vae.compile(optimizer='rmsprop',loss='')\n",
        "vae.summary()\n",
        "\n",
        "\n",
        "\n",
        "x_train = all_images_small.astype('float32') / 255.\n",
        "x_train = x_train.reshape((len(x_train), np.prod(x_train.shape[1:])))\n",
        "\n",
        "vae.fit(x_train,shuffle=True, epochs=epochs, batch_size=batch_size, validation_data=(x_train, None))\n",
        "# build a model to project inputs on the latent space\n",
        "encoder = Model(x, z_mean)\n",
        "\n",
        "# build a digit generator that can sample from the learned distribution\n",
        "decoder_input = Input(shape=(latent_dim,))\n",
        "_h_decoded = decoder_h(decoder_input)\n",
        "_x_decoded_mean = decoder_mean(_h_decoded)\n",
        "generator = Model(decoder_input, _x_decoded_mean)\n",
        "\n",
        "# # display a 2D manifold of the digits\n",
        "# n = 15  # figure with 15x15 digits\n",
        "# figure = np.zeros((new_dim * n, new_dim * n))\n",
        "# # linearly spaced coordinates on the unit square were transformed through the inverse CDF (ppf) of the Gaussian\n",
        "# # to produce values of the latent variables z, since the prior of the latent space is Gaussian\n",
        "# grid_x = norm.ppf(np.linspace(0.05, 0.95, n))\n",
        "# grid_y = norm.ppf(np.linspace(0.05, 0.95, n))\n",
        "\n",
        "# for i, yi in enumerate(grid_x):\n",
        "#     for j, xi in enumerate(grid_y):\n",
        "#         z_sample = np.array([[xi, yi]])\n",
        "#         z_sample = np.array([[0.04, 0.5, 0.6, 0.3, 0.2]])\n",
        "#         x_decoded = generator.predict(z_sample)\n",
        "#         digit = x_decoded[0].reshape(new_dim, new_dim)\n",
        "#         figure[i * new_dim: (i + 1) * new_dim,\n",
        "#                j * new_dim: (j + 1) * new_dim] = digit\n",
        "\n",
        "# plt.figure(figsize=(10, 10))\n",
        "# plt.imshow(figure, cmap='Greys_r')\n",
        "# plt.show()\n",
        "\n",
        "n = 1  \n",
        "figure = np.zeros((new_dim * n, new_dim * n))\n",
        "z_sample = np.array([[0.5, 0.5, 0.5, 0.5, 0.5,0.5, 0.5, 0.5, 0.5, 0.5]])\n",
        "x_decoded = generator.predict(z_sample)\n",
        "digit = x_decoded[0].reshape(new_dim, new_dim)\n",
        "plt.imshow(digit, cmap='Greys_r')\n",
        "plt.show()\n"
      ],
      "execution_count": 22,
      "outputs": [
        {
          "output_type": "stream",
          "text": [
            "(13233, 128, 128)\n",
            "[[ 0  0  0 ...  1  1  1]\n",
            " [ 0  0  0 ...  1  1  1]\n",
            " [ 0  0  0 ...  0  0  0]\n",
            " ...\n",
            " [21 20 22 ... 16 24 28]\n",
            " [20 19 22 ... 21 24 29]\n",
            " [19 18 24 ... 31 27 31]]\n",
            "Tensor(\"lambda_13/Shape_1:0\", shape=(2,), dtype=int32)\n",
            "Tensor(\"lambda_13/strided_slice_1:0\", shape=(), dtype=int32)\n",
            "Tensor(\"dense_62/BiasAdd:0\", shape=(?, 10), dtype=float32)\n",
            "Tensor(\"dense_63/BiasAdd:0\", shape=(?, 10), dtype=float32)\n",
            "Tensor(\"lambda_13/random_normal:0\", shape=(?, 10), dtype=float32)\n",
            "__________________________________________________________________________________________________\n",
            "Layer (type)                    Output Shape         Param #     Connected to                     \n",
            "==================================================================================================\n",
            "input_23 (InputLayer)           (None, 16384)        0                                            \n",
            "__________________________________________________________________________________________________\n",
            "dense_61 (Dense)                (None, 512)          8389120     input_23[0][0]                   \n",
            "__________________________________________________________________________________________________\n",
            "dense_62 (Dense)                (None, 10)           5130        dense_61[0][0]                   \n",
            "__________________________________________________________________________________________________\n",
            "dense_63 (Dense)                (None, 10)           5130        dense_61[0][0]                   \n",
            "__________________________________________________________________________________________________\n",
            "lambda_13 (Lambda)              (None, 10)           0           dense_62[0][0]                   \n",
            "                                                                 dense_63[0][0]                   \n",
            "__________________________________________________________________________________________________\n",
            "dense_64 (Dense)                (None, 512)          5632        lambda_13[0][0]                  \n",
            "__________________________________________________________________________________________________\n",
            "dense_65 (Dense)                (None, 16384)        8404992     dense_64[0][0]                   \n",
            "==================================================================================================\n",
            "Total params: 16,810,004\n",
            "Trainable params: 16,810,004\n",
            "Non-trainable params: 0\n",
            "__________________________________________________________________________________________________\n"
          ],
          "name": "stdout"
        },
        {
          "output_type": "stream",
          "text": [
            "/usr/local/lib/python3.6/dist-packages/ipykernel_launcher.py:68: UserWarning: Output \"dense_65\" missing from loss dictionary. We assume this was done on purpose, and we will not be expecting any data to be passed to \"dense_65\" during training.\n"
          ],
          "name": "stderr"
        },
        {
          "output_type": "stream",
          "text": [
            "Train on 13233 samples, validate on 13233 samples\n",
            "Epoch 1/100\n",
            "13233/13233 [==============================] - 6s 427us/step - loss: 4302444334797.9814 - val_loss: 10490.3583\n",
            "Epoch 2/100\n",
            "13233/13233 [==============================] - 5s 359us/step - loss: 10595.2840 - val_loss: 10533.6818\n",
            "Epoch 3/100\n",
            "13233/13233 [==============================] - 5s 354us/step - loss: 10415.2087 - val_loss: 10047.2026\n",
            "Epoch 4/100\n",
            "13233/13233 [==============================] - 5s 358us/step - loss: 10332.6156 - val_loss: 10212.5774\n",
            "Epoch 5/100\n",
            "13233/13233 [==============================] - 5s 356us/step - loss: 57975.8888 - val_loss: 10236.1337\n",
            "Epoch 6/100\n",
            "  128/13233 [..............................] - ETA: 4s - loss: 10261.1660"
          ],
          "name": "stdout"
        },
        {
          "output_type": "stream",
          "text": [
            "13233/13233 [==============================] - 5s 359us/step - loss: 10365.2110 - val_loss: 10262.7226\n",
            "Epoch 7/100\n",
            "13233/13233 [==============================] - 5s 357us/step - loss: 10978.3448 - val_loss: 11020.2227\n",
            "Epoch 8/100\n",
            "13233/13233 [==============================] - 5s 356us/step - loss: 70303.5707 - val_loss: 10047.3684\n",
            "Epoch 9/100\n",
            "13233/13233 [==============================] - 5s 356us/step - loss: 9957.4353 - val_loss: 10009.3054\n",
            "Epoch 10/100\n",
            "13233/13233 [==============================] - 5s 354us/step - loss: 94127.8450 - val_loss: 9926.2798\n",
            "Epoch 11/100\n",
            " 7552/13233 [================>.............] - ETA: 1s - loss: 9839.5249"
          ],
          "name": "stdout"
        },
        {
          "output_type": "stream",
          "text": [
            "13233/13233 [==============================] - 5s 357us/step - loss: 9877.6559 - val_loss: 9994.4740\n",
            "Epoch 12/100\n",
            "13233/13233 [==============================] - 5s 355us/step - loss: 10375.9026 - val_loss: 9948.7178\n",
            "Epoch 13/100\n",
            "13233/13233 [==============================] - 5s 356us/step - loss: 10212.5890 - val_loss: 9896.7607\n",
            "Epoch 14/100\n",
            "13233/13233 [==============================] - 5s 358us/step - loss: 10017.1148 - val_loss: 10116.1641\n",
            "Epoch 15/100\n",
            "13233/13233 [==============================] - 5s 355us/step - loss: 9921.2775 - val_loss: 9626.4358\n",
            "Epoch 16/100\n",
            " 8320/13233 [=================>............] - ETA: 1s - loss: 9769.8030"
          ],
          "name": "stdout"
        },
        {
          "output_type": "stream",
          "text": [
            "13233/13233 [==============================] - 5s 358us/step - loss: 9749.8976 - val_loss: 9634.3043\n",
            "Epoch 17/100\n",
            "13233/13233 [==============================] - 5s 360us/step - loss: 9642.8818 - val_loss: 9552.7243\n",
            "Epoch 18/100\n",
            "13233/13233 [==============================] - 5s 358us/step - loss: 9556.5001 - val_loss: 9496.7743\n",
            "Epoch 19/100\n",
            "13233/13233 [==============================] - 5s 356us/step - loss: 9485.2604 - val_loss: 9425.8226\n",
            "Epoch 20/100\n",
            "13233/13233 [==============================] - 5s 361us/step - loss: 9451.4963 - val_loss: 9418.6441\n",
            "Epoch 21/100\n",
            " 8832/13233 [===================>..........] - ETA: 1s - loss: 9436.7823"
          ],
          "name": "stdout"
        },
        {
          "output_type": "stream",
          "text": [
            "13233/13233 [==============================] - 5s 360us/step - loss: 9428.2068 - val_loss: 9559.2974\n",
            "Epoch 22/100\n",
            "13233/13233 [==============================] - 5s 360us/step - loss: 9406.2843 - val_loss: 9373.0017\n",
            "Epoch 23/100\n",
            "13233/13233 [==============================] - 5s 357us/step - loss: 9394.7565 - val_loss: 9318.2374\n",
            "Epoch 24/100\n",
            "13233/13233 [==============================] - 5s 353us/step - loss: 9380.1155 - val_loss: 9380.5161\n",
            "Epoch 25/100\n",
            "13233/13233 [==============================] - 5s 355us/step - loss: 9367.1984 - val_loss: 9413.3492\n",
            "Epoch 26/100\n",
            " 8832/13233 [===================>..........] - ETA: 1s - loss: 9350.6768"
          ],
          "name": "stdout"
        },
        {
          "output_type": "stream",
          "text": [
            "13233/13233 [==============================] - 5s 356us/step - loss: 9360.2811 - val_loss: 9383.8494\n",
            "Epoch 27/100\n",
            "13233/13233 [==============================] - 5s 362us/step - loss: 9353.8085 - val_loss: 9365.7261\n",
            "Epoch 28/100\n",
            "13233/13233 [==============================] - 5s 359us/step - loss: 9345.2875 - val_loss: 9302.0963\n",
            "Epoch 29/100\n",
            "13233/13233 [==============================] - 5s 355us/step - loss: 9338.3147 - val_loss: 9389.2570\n",
            "Epoch 30/100\n",
            "13233/13233 [==============================] - 5s 355us/step - loss: 9336.4767 - val_loss: 9343.0429\n",
            "Epoch 31/100\n",
            " 8832/13233 [===================>..........] - ETA: 1s - loss: 9330.3629"
          ],
          "name": "stdout"
        },
        {
          "output_type": "stream",
          "text": [
            "13233/13233 [==============================] - 5s 356us/step - loss: 9329.1864 - val_loss: 9335.5785\n",
            "Epoch 32/100\n",
            "13233/13233 [==============================] - 5s 357us/step - loss: 9328.3318 - val_loss: 9278.1071\n",
            "Epoch 33/100\n",
            "13233/13233 [==============================] - 5s 356us/step - loss: 9322.0978 - val_loss: 9308.8243\n",
            "Epoch 34/100\n",
            "13233/13233 [==============================] - 5s 357us/step - loss: 9317.6906 - val_loss: 9263.4073\n",
            "Epoch 35/100\n",
            "13233/13233 [==============================] - 5s 356us/step - loss: 9315.9549 - val_loss: 9304.3777\n",
            "Epoch 36/100\n",
            " 8832/13233 [===================>..........] - ETA: 1s - loss: 9325.3088"
          ],
          "name": "stdout"
        },
        {
          "output_type": "stream",
          "text": [
            "13233/13233 [==============================] - 5s 356us/step - loss: 9312.6962 - val_loss: 9327.9476\n",
            "Epoch 37/100\n",
            "13233/13233 [==============================] - 5s 354us/step - loss: 9309.3687 - val_loss: 9308.0368\n",
            "Epoch 38/100\n",
            "13233/13233 [==============================] - 5s 356us/step - loss: 9306.9691 - val_loss: 9321.3030\n",
            "Epoch 39/100\n",
            "13233/13233 [==============================] - 5s 353us/step - loss: 9304.0607 - val_loss: 9294.6290\n",
            "Epoch 40/100\n",
            "13233/13233 [==============================] - 5s 356us/step - loss: 9300.8609 - val_loss: 9273.6141\n",
            "Epoch 41/100\n",
            " 8832/13233 [===================>..........] - ETA: 1s - loss: 9302.6394"
          ],
          "name": "stdout"
        },
        {
          "output_type": "stream",
          "text": [
            "13233/13233 [==============================] - 5s 354us/step - loss: 9297.3944 - val_loss: 9314.5699\n",
            "Epoch 42/100\n",
            "13233/13233 [==============================] - 5s 354us/step - loss: 9295.2699 - val_loss: 9254.4822\n",
            "Epoch 43/100\n",
            "13233/13233 [==============================] - 5s 360us/step - loss: 9292.8588 - val_loss: 9290.1633\n",
            "Epoch 44/100\n",
            "13233/13233 [==============================] - 5s 356us/step - loss: 9288.4703 - val_loss: 9348.7643\n",
            "Epoch 45/100\n",
            "13233/13233 [==============================] - 5s 358us/step - loss: 9289.6649 - val_loss: 9298.2817\n",
            "Epoch 46/100\n",
            " 8832/13233 [===================>..........] - ETA: 1s - loss: 9285.1639"
          ],
          "name": "stdout"
        },
        {
          "output_type": "stream",
          "text": [
            "13233/13233 [==============================] - 5s 356us/step - loss: 9286.1846 - val_loss: 9330.7316\n",
            "Epoch 47/100\n",
            "13233/13233 [==============================] - 5s 359us/step - loss: 9282.7647 - val_loss: 9268.9261\n",
            "Epoch 48/100\n",
            "13233/13233 [==============================] - 5s 359us/step - loss: 9283.1309 - val_loss: 9250.0568\n",
            "Epoch 49/100\n",
            "13233/13233 [==============================] - 5s 359us/step - loss: 9279.6416 - val_loss: 9254.6205\n",
            "Epoch 50/100\n",
            "13233/13233 [==============================] - 5s 357us/step - loss: 9279.2351 - val_loss: 9307.1829\n",
            "Epoch 51/100\n",
            " 8832/13233 [===================>..........] - ETA: 1s - loss: 9269.1897"
          ],
          "name": "stdout"
        },
        {
          "output_type": "stream",
          "text": [
            "13233/13233 [==============================] - 5s 359us/step - loss: 9277.3422 - val_loss: 9255.5767\n",
            "Epoch 52/100\n",
            "13233/13233 [==============================] - 5s 358us/step - loss: 9273.3667 - val_loss: 9292.1756\n",
            "Epoch 53/100\n",
            "13233/13233 [==============================] - 5s 356us/step - loss: 9273.0388 - val_loss: 9285.2543\n",
            "Epoch 54/100\n",
            "13233/13233 [==============================] - 5s 357us/step - loss: 9274.6243 - val_loss: 9282.7826\n",
            "Epoch 55/100\n",
            "13233/13233 [==============================] - 5s 357us/step - loss: 9270.2766 - val_loss: 9328.1481\n",
            "Epoch 56/100\n",
            " 8832/13233 [===================>..........] - ETA: 1s - loss: 9265.5476"
          ],
          "name": "stdout"
        },
        {
          "output_type": "stream",
          "text": [
            "13233/13233 [==============================] - 5s 353us/step - loss: 9270.9132 - val_loss: 9290.2990\n",
            "Epoch 57/100\n",
            "13233/13233 [==============================] - 5s 355us/step - loss: 9266.5135 - val_loss: 9264.5012\n",
            "Epoch 58/100\n",
            "13233/13233 [==============================] - 5s 353us/step - loss: 9266.2344 - val_loss: 9256.2214\n",
            "Epoch 59/100\n",
            "13233/13233 [==============================] - 5s 355us/step - loss: 9267.3206 - val_loss: 9241.1181\n",
            "Epoch 60/100\n",
            "13233/13233 [==============================] - 5s 353us/step - loss: 9263.1262 - val_loss: 9289.4066\n",
            "Epoch 61/100\n",
            " 8832/13233 [===================>..........] - ETA: 1s - loss: 9268.0337"
          ],
          "name": "stdout"
        },
        {
          "output_type": "stream",
          "text": [
            "13233/13233 [==============================] - 5s 356us/step - loss: 9263.7637 - val_loss: 9252.0939\n",
            "Epoch 62/100\n",
            "13233/13233 [==============================] - 5s 356us/step - loss: 9262.7607 - val_loss: 9248.1457\n",
            "Epoch 63/100\n",
            "13233/13233 [==============================] - 5s 363us/step - loss: 9260.4965 - val_loss: 9259.3718\n",
            "Epoch 64/100\n",
            "13233/13233 [==============================] - 5s 356us/step - loss: 9262.0616 - val_loss: 9283.3839\n",
            "Epoch 65/100\n",
            "13233/13233 [==============================] - 5s 355us/step - loss: 9258.0966 - val_loss: 9261.0785\n",
            "Epoch 66/100\n",
            " 8832/13233 [===================>..........] - ETA: 1s - loss: 9254.3831"
          ],
          "name": "stdout"
        },
        {
          "output_type": "stream",
          "text": [
            "13233/13233 [==============================] - 5s 355us/step - loss: 9260.0153 - val_loss: 9244.6876\n",
            "Epoch 67/100\n",
            "13233/13233 [==============================] - 5s 354us/step - loss: 9256.9075 - val_loss: 9240.3136\n",
            "Epoch 68/100\n",
            "13233/13233 [==============================] - 5s 357us/step - loss: 9257.5201 - val_loss: 9250.3276\n",
            "Epoch 69/100\n",
            "13233/13233 [==============================] - 5s 356us/step - loss: 9256.9554 - val_loss: 9266.9533\n",
            "Epoch 70/100\n",
            "13233/13233 [==============================] - 5s 357us/step - loss: 9253.4656 - val_loss: 9243.5176\n",
            "Epoch 71/100\n",
            " 8832/13233 [===================>..........] - ETA: 1s - loss: 9250.5773"
          ],
          "name": "stdout"
        },
        {
          "output_type": "stream",
          "text": [
            "13233/13233 [==============================] - 5s 357us/step - loss: 9255.7183 - val_loss: 9254.2510\n",
            "Epoch 72/100\n",
            "13233/13233 [==============================] - 5s 355us/step - loss: 9254.5148 - val_loss: 9231.6596\n",
            "Epoch 73/100\n",
            "13233/13233 [==============================] - 5s 354us/step - loss: 9253.5749 - val_loss: 9265.5522\n",
            "Epoch 74/100\n",
            "13233/13233 [==============================] - 5s 354us/step - loss: 9253.3508 - val_loss: 9365.1023\n",
            "Epoch 75/100\n",
            "13233/13233 [==============================] - 5s 356us/step - loss: 9253.1729 - val_loss: 9274.2831\n",
            "Epoch 76/100\n",
            " 8832/13233 [===================>..........] - ETA: 1s - loss: 9253.5712"
          ],
          "name": "stdout"
        },
        {
          "output_type": "stream",
          "text": [
            "13233/13233 [==============================] - 5s 356us/step - loss: 9250.9737 - val_loss: 9222.0768\n",
            "Epoch 77/100\n",
            "13233/13233 [==============================] - 5s 356us/step - loss: 9250.1657 - val_loss: 9249.7551\n",
            "Epoch 78/100\n",
            "13233/13233 [==============================] - 5s 359us/step - loss: 9247.8150 - val_loss: 9305.1726\n",
            "Epoch 79/100\n",
            "13233/13233 [==============================] - 5s 357us/step - loss: 9250.8805 - val_loss: 9228.3495\n",
            "Epoch 80/100\n",
            "13233/13233 [==============================] - 5s 358us/step - loss: 9247.1993 - val_loss: 9280.1932\n",
            "Epoch 81/100\n",
            " 8832/13233 [===================>..........] - ETA: 1s - loss: 9245.0471"
          ],
          "name": "stdout"
        },
        {
          "output_type": "stream",
          "text": [
            "13233/13233 [==============================] - 5s 360us/step - loss: 9248.2179 - val_loss: 9257.4801\n",
            "Epoch 82/100\n",
            "13233/13233 [==============================] - 5s 357us/step - loss: 9247.5843 - val_loss: 9281.2054\n",
            "Epoch 83/100\n",
            "13233/13233 [==============================] - 5s 359us/step - loss: 9247.3769 - val_loss: 9209.8943\n",
            "Epoch 84/100\n",
            "13233/13233 [==============================] - 5s 355us/step - loss: 9246.1583 - val_loss: 9240.0197\n",
            "Epoch 85/100\n",
            "13233/13233 [==============================] - 5s 358us/step - loss: 9244.6419 - val_loss: 9247.0781\n",
            "Epoch 86/100\n",
            " 8832/13233 [===================>..........] - ETA: 1s - loss: 9240.8759"
          ],
          "name": "stdout"
        },
        {
          "output_type": "stream",
          "text": [
            "13233/13233 [==============================] - 5s 353us/step - loss: 9245.9549 - val_loss: 9284.7228\n",
            "Epoch 87/100\n",
            "13233/13233 [==============================] - 5s 355us/step - loss: 9244.7980 - val_loss: 9306.6967\n",
            "Epoch 88/100\n",
            "13233/13233 [==============================] - 5s 354us/step - loss: 9244.6303 - val_loss: 9206.5010\n",
            "Epoch 89/100\n",
            "13233/13233 [==============================] - 5s 353us/step - loss: 9241.6453 - val_loss: 9270.8031\n",
            "Epoch 90/100\n",
            "13233/13233 [==============================] - 5s 354us/step - loss: 9242.9856 - val_loss: 9254.1934\n",
            "Epoch 91/100\n",
            " 8832/13233 [===================>..........] - ETA: 1s - loss: 9238.3152"
          ],
          "name": "stdout"
        },
        {
          "output_type": "stream",
          "text": [
            "13233/13233 [==============================] - 5s 358us/step - loss: 9242.4569 - val_loss: 9242.0546\n",
            "Epoch 92/100\n",
            "13233/13233 [==============================] - 5s 356us/step - loss: 9243.1002 - val_loss: 9230.5012\n",
            "Epoch 93/100\n",
            "13233/13233 [==============================] - 5s 355us/step - loss: 9240.7278 - val_loss: 9289.6935\n",
            "Epoch 94/100\n",
            "13233/13233 [==============================] - 5s 357us/step - loss: 9241.5939 - val_loss: 9224.0115\n",
            "Epoch 95/100\n",
            "13233/13233 [==============================] - 5s 355us/step - loss: 9241.1304 - val_loss: 9219.1773\n",
            "Epoch 96/100\n",
            " 8832/13233 [===================>..........] - ETA: 1s - loss: 9251.4345"
          ],
          "name": "stdout"
        },
        {
          "output_type": "stream",
          "text": [
            "13233/13233 [==============================] - 5s 354us/step - loss: 9239.0575 - val_loss: 9240.2166\n",
            "Epoch 97/100\n",
            "13233/13233 [==============================] - 5s 355us/step - loss: 9239.3977 - val_loss: 9242.7023\n",
            "Epoch 98/100\n",
            "13233/13233 [==============================] - 5s 354us/step - loss: 9239.4352 - val_loss: 9237.0565\n",
            "Epoch 99/100\n",
            "13233/13233 [==============================] - 5s 354us/step - loss: 9238.3969 - val_loss: 9248.4189\n",
            "Epoch 100/100\n",
            "13233/13233 [==============================] - 5s 354us/step - loss: 9238.0530 - val_loss: 9231.3708\n"
          ],
          "name": "stdout"
        },
        {
          "output_type": "display_data",
          "data": {
            "image/png": "[encoded data removed]",
            "text/plain": [
              "<matplotlib.figure.Figure at 0x7fcbc26c3a20>"
            ]
          },
          "metadata": {
            "tags": []
          }
        }
      ]
    }
  ]
}